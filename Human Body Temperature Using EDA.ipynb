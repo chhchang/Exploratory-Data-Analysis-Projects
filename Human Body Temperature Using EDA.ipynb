{
 "cells": [
  {
   "cell_type": "markdown",
   "metadata": {},
   "source": [
    "# What is the True Normal Human Body Temperature? \n",
    "\n",
    "#### Background\n",
    "\n",
    "The mean normal body temperature was held to be 37$^{\\circ}$C or 98.6$^{\\circ}$F for more than 120 years since it was first conceptualized and reported by Carl Wunderlich in a famous 1868 book. But, is this value statistically correct?"
   ]
  },
  {
   "cell_type": "markdown",
   "metadata": {},
   "source": [
    "<h3>Exercises</h3>\n",
    "\n",
    "<p>In this exercise, you will analyze a dataset of human body temperatures and employ the concepts of hypothesis testing, confidence intervals, and statistical significance.</p>\n",
    "\n",
    "<p>Answer the following questions <b>in this notebook below and submit to your Github account</b>.</p> \n",
    "\n",
    "<ol>\n",
    "<li>  Is the distribution of body temperatures normal? \n",
    "    <ul>\n",
    "    <li> Although this is not a requirement for CLT to hold (read CLT carefully), it gives us some peace of mind that the population may also be normally distributed if we assume that this sample is representative of the population.\n",
    "    </ul>\n",
    "<li>  Is the sample size large? Are the observations independent?\n",
    "    <ul>\n",
    "    <li> Remember that this is a condition for the CLT, and hence the statistical tests we are using, to apply.\n",
    "    </ul>\n",
    "<li>  Is the true population mean really 98.6 degrees F?\n",
    "    <ul>\n",
    "    <li> Would you use a one-sample or two-sample test? Why?\n",
    "    <li> In this situation, is it appropriate to use the $t$ or $z$ statistic? \n",
    "    <li> Now try using the other test. How is the result be different? Why?\n",
    "    </ul>\n",
    "<li>  Draw a small sample of size 10 from the data and repeat both tests. \n",
    "    <ul>\n",
    "    <li> Which one is the correct one to use? \n",
    "    <li> What do you notice? What does this tell you about the difference in application of the $t$ and $z$ statistic?\n",
    "    </ul>\n",
    "<li>  At what temperature should we consider someone's temperature to be \"abnormal\"?\n",
    "    <ul>\n",
    "    <li> Start by computing the margin of error and confidence interval.\n",
    "    </ul>\n",
    "<li>  Is there a significant difference between males and females in normal temperature?\n",
    "    <ul>\n",
    "    <li> What test did you use and why?\n",
    "    <li> Write a story with your conclusion in the context of the original problem.\n",
    "    </ul>\n",
    "</ol>\n",
    "\n",
    "You can include written notes in notebook cells using Markdown: \n",
    "   - In the control panel at the top, choose Cell > Cell Type > Markdown\n",
    "   - Markdown syntax: http://nestacms.com/docs/creating-content/markdown-cheat-sheet\n",
    "\n",
    "#### Resources\n",
    "\n",
    "+ Information and data sources: http://www.amstat.org/publications/jse/datasets/normtemp.txt, http://www.amstat.org/publications/jse/jse_data_archive.htm\n",
    "+ Markdown syntax: http://nestacms.com/docs/creating-content/markdown-cheat-sheet\n",
    "\n",
    "****"
   ]
  },
  {
   "cell_type": "code",
   "execution_count": 6,
   "metadata": {},
   "outputs": [],
   "source": [
    "#import modules and load csv file\n",
    "import pandas as pd\n",
    "import numpy as np\n",
    "import matplotlib.pyplot as plt\n",
    "df = pd.read_csv('data/human_body_temperature.csv')"
   ]
  },
  {
   "cell_type": "markdown",
   "metadata": {},
   "source": [
    "### 1. Is the distribution of body temperatures normal? \n",
    "A histogram can be used to observe the distribution of the body temperature. To do so, we use matplotlib to generate a histogram with the dataframe from 'data/human_body_temperature.csv'."
   ]
  },
  {
   "cell_type": "code",
   "execution_count": 7,
   "metadata": {
    "scrolled": true
   },
   "outputs": [
    {
     "data": {
      "image/png": "[encoded data removed]",
      "text/plain": [
       "<matplotlib.figure.Figure at 0x10ea1e390>"
      ]
     },
     "metadata": {},
     "output_type": "display_data"
    }
   ],
   "source": [
    "#create a bin size of the square root of the data size.\n",
    "bin_size = int(np.sqrt(130))\n",
    "\n",
    "#generate the histogram with calculated bins\n",
    "_ = plt.hist(df['temperature'], bins=bin_size)\n",
    "_ = plt.xlabel('body temperature, degree F')\n",
    "_ = plt.ylabel('count')\n",
    "plt.show()"
   ]
  },
  {
   "cell_type": "markdown",
   "metadata": {},
   "source": [
    "The distribution of the body temperature in the observed data is somewhat normally distributed with a mean close to 98.2 degrees F."
   ]
  },
  {
   "cell_type": "markdown",
   "metadata": {},
   "source": [
    "### 2. Is the sample size large? Are the observations independent?\n",
    "The sample size of 130 is fairly large. The sample size is greater than 30, which is more than enough to conduct z-statistics with assuming the sample variance as the population variance. The observations are independent, the observation of one person's body temperature does not affect the observation of another person."
   ]
  },
  {
   "cell_type": "markdown",
   "metadata": {},
   "source": [
    "### 3. Is the true population mean really 98.6 degrees F?\n",
    "Since the question is asking whether the population mean is really 98.6 degrees F, an one-sample test is used to compare the dataset with the assumed population mean of 98.6. The sample size is large enough to perform a z-test. In the situation of unknown population variance, we can assume the population variance to be the same as the sample variance.\n",
    "\n",
    "In the z-test, the null hypothesis is that the sample mean and population mean are equal. The significance level of the test is 95%, which means alpha is 0.05. Assuming alpha is 0.05 and two-tailed test, the critical values would be -1.96 and 1.96."
   ]
  },
  {
   "cell_type": "code",
   "execution_count": 26,
   "metadata": {},
   "outputs": [
    {
     "data": {
      "text/plain": [
       "98.24923076923078"
      ]
     },
     "execution_count": 26,
     "metadata": {},
     "output_type": "execute_result"
    }
   ],
   "source": [
    "#calculate sample mean\n",
    "sample_mean = np.mean(df['temperature'])\n",
    "sample_mean"
   ]
  },
  {
   "cell_type": "code",
   "execution_count": 27,
   "metadata": {},
   "outputs": [
    {
     "data": {
      "text/plain": [
       "0.7303577789050377"
      ]
     },
     "execution_count": 27,
     "metadata": {},
     "output_type": "execute_result"
    }
   ],
   "source": [
    "#calculate sample standard deviation(std)\n",
    "sample_std = np.std(df['temperature'])\n",
    "sample_std"
   ]
  },
  {
   "cell_type": "code",
   "execution_count": 10,
   "metadata": {},
   "outputs": [
    {
     "data": {
      "text/plain": [
       "-5.475925202078116"
      ]
     },
     "execution_count": 10,
     "metadata": {},
     "output_type": "execute_result"
    }
   ],
   "source": [
    "#z-statistic equals (X - μ)/σ, we are substituting population std with sample std as s/(n**0.5).\n",
    "# it can also be represented as (sample mean - population mean)/population std / square root of sample size.\n",
    "z_stats = (98.24923076923078 - 98.6)/(0.7303577789050377/(130**0.5)) #we used sample std instead of population std\n",
    "z_stats"
   ]
  },
  {
   "cell_type": "markdown",
   "metadata": {},
   "source": [
    "The test statistic is way beyond the critical value of the hypothesis. Therefore we reject the null hypothesis and conclude that the true population mean is not 98.6 degrees F.\n",
    "\n",
    "Next, the same hypothesis would be used for t-test."
   ]
  },
  {
   "cell_type": "markdown",
   "metadata": {},
   "source": [
    "At 95% confidence, the critical values for t-statistics with more than 100 degrees of freedom would be -1.984 and 1.984."
   ]
  },
  {
   "cell_type": "code",
   "execution_count": 12,
   "metadata": {},
   "outputs": [
    {
     "data": {
      "text/plain": [
       "-5.475925202078116"
      ]
     },
     "execution_count": 12,
     "metadata": {},
     "output_type": "execute_result"
    }
   ],
   "source": [
    "#t-statistic equals (X - μ)/(s/n^0.5)\n",
    "# it can also be represented as (sample mean - population mean)/(sample std / square root of sample size)\n",
    "t_stats = (98.24923076923078 - 98.6)/(0.7303577789050377/(130**0.5))\n",
    "t_stats"
   ]
  },
  {
   "cell_type": "markdown",
   "metadata": {},
   "source": [
    "The result of the t-statistic is also outside of the bound of the critical values, therefore the null hypothesis is rejected. We conclude that the true population mean is not 98.6 degrees F with both z-test and t-test with sample size of 130."
   ]
  },
  {
   "cell_type": "markdown",
   "metadata": {},
   "source": [
    "### 3. Draw a small sample of size 10 from the data and repeat both tests."
   ]
  },
  {
   "cell_type": "code",
   "execution_count": 14,
   "metadata": {},
   "outputs": [
    {
     "data": {
      "text/plain": [
       "array([  98.3,   98.1,   98. ,   98.8,   98.4,   98.2,   97.5,   98.9,\n",
       "        100. ,   98.2])"
      ]
     },
     "execution_count": 14,
     "metadata": {},
     "output_type": "execute_result"
    }
   ],
   "source": [
    "#gather 10 random samples from the data\n",
    "small_sample = np.random.choice(df['temperature'], size = 10)\n",
    "small_sample"
   ]
  },
  {
   "cell_type": "code",
   "execution_count": 15,
   "metadata": {},
   "outputs": [
    {
     "data": {
      "text/plain": [
       "98.440000000000012"
      ]
     },
     "execution_count": 15,
     "metadata": {},
     "output_type": "execute_result"
    }
   ],
   "source": [
    "#obtain mean of small_sample as mean_small\n",
    "mean_small = np.mean(small_sample)\n",
    "mean_small"
   ]
  },
  {
   "cell_type": "code",
   "execution_count": 19,
   "metadata": {},
   "outputs": [
    {
     "data": {
      "text/plain": [
       "0.64062469512187903"
      ]
     },
     "execution_count": 19,
     "metadata": {},
     "output_type": "execute_result"
    }
   ],
   "source": [
    "#obtain sample standard deviation of small_sample as std_small\n",
    "std_small = np.std(small_sample)\n",
    "std_small"
   ]
  },
  {
   "cell_type": "markdown",
   "metadata": {},
   "source": [
    "The null hypothesis is population mean is 98.6, and the critical values for z-test at 95% confidence are -1.96 and 1.96."
   ]
  },
  {
   "cell_type": "code",
   "execution_count": 20,
   "metadata": {},
   "outputs": [
    {
     "data": {
      "text/plain": [
       "-0.7897985036787024"
      ]
     },
     "execution_count": 20,
     "metadata": {},
     "output_type": "execute_result"
    }
   ],
   "source": [
    "#z-statistic equals (X - μ)/σ, we are substituting sample std again for population std as s/(n**0.5).\n",
    "z_stats_small = (98.440000000000012 - 98.6)/(0.64062469512187903/(10**0.5))\n",
    "z_stats_small"
   ]
  },
  {
   "cell_type": "markdown",
   "metadata": {},
   "source": [
    "The null hypothesis is population mean is 98.6, and the critical values for z-test at 95% confidence with 9 degree of freedom are -2.262 and 2.262."
   ]
  },
  {
   "cell_type": "code",
   "execution_count": 21,
   "metadata": {},
   "outputs": [
    {
     "data": {
      "text/plain": [
       "-0.7897985036787024"
      ]
     },
     "execution_count": 21,
     "metadata": {},
     "output_type": "execute_result"
    }
   ],
   "source": [
    "#t-statistic equals (X - μ)/(s/n^0.5)\n",
    "t_stats_small = (98.440000000000012 - 98.6)/(0.64062469512187903/(10**0.5))\n",
    "t_stats_small"
   ]
  },
  {
   "cell_type": "markdown",
   "metadata": {},
   "source": [
    "We are not rejecting the null hypothesis in both tests because the test statistics is within the critical values in both tests.\n",
    "\n",
    "When sample size gets smaller, the sample variance is not as small as sample variance from dataset with large sample size. In this case, the null hypothesis is not rejected in both tests. T-test should be used when sample size is small instead of z-test, because it is unreliable to substitute population variance with sample variance when sample size is too small. However, in the tests above, no apparent difference is observed between the results of both tests."
   ]
  },
  {
   "cell_type": "markdown",
   "metadata": {},
   "source": [
    "### 5. At what temperature should we consider someone's temperature to be \"abnormal\"?\n",
    "\n",
    "Confidence interval can be used to determine whether some body temperature observations are considered abnormal. We can set the confidence interval at 99%, which means we assume the body temperature within the 99% confidence interval are considered normal. Whereas the body temperature outside of the 99% interval would be deemed abnormal.\n",
    "\n",
    "At 99% confidence interval, the lower and upper ranges are ±2.576 standard deviations away from the sample mean. In this term, the standard deviation can be estimated as (s/n^0.5).\n",
    "\n",
    "The margin of error would be the range between the sample mean and the limits of the confidence interval. In this situation, it is 2.576 standard deviations."
   ]
  },
  {
   "cell_type": "code",
   "execution_count": 28,
   "metadata": {},
   "outputs": [
    {
     "data": {
      "text/plain": [
       "0.06405661469519336"
      ]
     },
     "execution_count": 28,
     "metadata": {},
     "output_type": "execute_result"
    }
   ],
   "source": [
    "#calculate (s/n^0.5).\n",
    "std_estimate = sample_std / 130**0.5\n",
    "std_estimate"
   ]
  },
  {
   "cell_type": "code",
   "execution_count": 30,
   "metadata": {},
   "outputs": [
    {
     "data": {
      "text/plain": [
       "98.4142406086856"
      ]
     },
     "execution_count": 30,
     "metadata": {},
     "output_type": "execute_result"
    }
   ],
   "source": [
    "#calculate the upper limit of the confidence interval as 2.576(s/n^0.5) + sample mean\n",
    "upper = 2.576 * std_estimate + sample_mean\n",
    "upper"
   ]
  },
  {
   "cell_type": "code",
   "execution_count": 31,
   "metadata": {},
   "outputs": [
    {
     "data": {
      "text/plain": [
       "98.08422092977595"
      ]
     },
     "execution_count": 31,
     "metadata": {},
     "output_type": "execute_result"
    }
   ],
   "source": [
    "#calculate the lower limit of the confidence interval as -2.576(s/n^0.5) + sample mean\n",
    "lower = -2.576 * std_estimate + sample_mean\n",
    "lower"
   ]
  },
  {
   "cell_type": "code",
   "execution_count": 33,
   "metadata": {},
   "outputs": [
    {
     "data": {
      "text/plain": [
       "0.1650098394548181"
      ]
     },
     "execution_count": 33,
     "metadata": {},
     "output_type": "execute_result"
    }
   ],
   "source": [
    "#calculate margin of error as 2.576 * std_estimate\n",
    "marg_error = 2.576 * std_estimate\n",
    "marg_error"
   ]
  },
  {
   "cell_type": "markdown",
   "metadata": {},
   "source": [
    "The confidence interval of the normal body temperature at 99% is between 98.41 and 98.08 degrees F. And the margin of error would be 0.17 degrees F."
   ]
  },
  {
   "cell_type": "markdown",
   "metadata": {},
   "source": [
    "### 6. Is there a significant difference between males and females in normal temperature?\n",
    "\n",
    "A permutation test is excellent for testing the difference between two populations. In this problem, we will filter each part of the dataframe by male and female. Next, we will create a few functions to perform the permutation test. Last, we will replicate the permutation by 10000 reps and compare the replicates to the actual difference of means from the sample data to obtain a p-value.\n",
    "\n",
    "The null hypothesis would be no difference between genders in normal body temperature."
   ]
  },
  {
   "cell_type": "code",
   "execution_count": 39,
   "metadata": {},
   "outputs": [],
   "source": [
    "##filter the dataframe by male\n",
    "male = df[df.gender == 'M']"
   ]
  },
  {
   "cell_type": "code",
   "execution_count": 41,
   "metadata": {},
   "outputs": [],
   "source": [
    "##filter the dataframe by female\n",
    "female = df[df.gender == 'F']"
   ]
  },
  {
   "cell_type": "code",
   "execution_count": 34,
   "metadata": {},
   "outputs": [],
   "source": [
    "##define function that returns the difference of two means\n",
    "def diff_of_means(data_1, data_2):\n",
    "    \"\"\"Difference in means of two arrays.\"\"\"\n",
    "\n",
    "    # The difference of means of data_1, data_2: diff\n",
    "    diff = np.mean(data_1)-np.mean(data_2)\n",
    "\n",
    "    return diff\n",
    "\n",
    "##define permutation function\n",
    "def permutation_sample(data1, data2):\n",
    "    \"\"\"Generate a permutation sample from two data sets.\"\"\"\n",
    "\n",
    "    # Concatenate the data sets: data\n",
    "    data = np.concatenate((data1,data2))\n",
    "\n",
    "    # Permute the concatenated array: permuted_data\n",
    "    permuted_data = np.random.permutation(data)\n",
    "\n",
    "    # Split the permuted array into two: perm_sample_1, perm_sample_2\n",
    "    perm_sample_1 = permuted_data[:len(data1)]\n",
    "    perm_sample_2 = permuted_data[len(data1):]\n",
    "\n",
    "    return perm_sample_1, perm_sample_2\n",
    "\n",
    "##define permutation replicates with function argument that we can fit in diff_of_means\n",
    "def draw_perm_reps(data_1, data_2, func, size=1):\n",
    "    \"\"\"Generate multiple permutation replicates.\"\"\"\n",
    "\n",
    "    # Initialize array of replicates: perm_replicates\n",
    "    perm_replicates = np.empty(size)\n",
    "\n",
    "    for i in range(size):\n",
    "        # Generate permutation sample\n",
    "        perm_sample_1, perm_sample_2 = permutation_sample(data_1,data_2)\n",
    "\n",
    "        # Compute the test statistic\n",
    "        perm_replicates[i] = func(perm_sample_1,perm_sample_2)\n",
    "\n",
    "    return perm_replicates"
   ]
  },
  {
   "cell_type": "code",
   "execution_count": 55,
   "metadata": {
    "scrolled": false
   },
   "outputs": [
    {
     "name": "stdout",
     "output_type": "stream",
     "text": [
      "-0.289230769230727\n"
     ]
    }
   ],
   "source": [
    "##calculate the difference in mean of body temperature between two genders\n",
    "data_diff_means = diff_of_means(male['temperature'], female['temperature'])\n",
    "print(data_diff_means)"
   ]
  },
  {
   "cell_type": "markdown",
   "metadata": {},
   "source": [
    "From the sample data, we can see that on average, women have slightly higher body temperature than men. Next, we will set the p-value equation to find the likeliness that permutation replicates would have as much as of a difference in the mean of body temperature."
   ]
  },
  {
   "cell_type": "code",
   "execution_count": 51,
   "metadata": {},
   "outputs": [],
   "source": [
    "perm_data = draw_perm_reps(male['temperature'], female['temperature'], diff_of_means, 10000)"
   ]
  },
  {
   "cell_type": "code",
   "execution_count": 54,
   "metadata": {},
   "outputs": [
    {
     "data": {
      "text/plain": [
       "0.0135"
      ]
     },
     "execution_count": 54,
     "metadata": {},
     "output_type": "execute_result"
    }
   ],
   "source": [
    "p_value = np.sum(perm_data <= data_diff_means) / 10000\n",
    "p_value"
   ]
  },
  {
   "cell_type": "markdown",
   "metadata": {},
   "source": [
    "The p-value shows that there is only 1.35% chance that the difference of average body temperatures between genders would be as large as observed, which is very unlikely. Therefore we can reject the null hypothesis and assume that there is a significant difference between male and female in normal body temperature."
   ]
  },
  {
   "cell_type": "code",
   "execution_count": null,
   "metadata": {},
   "outputs": [],
   "source": []
  }
 ],
 "metadata": {
  "kernelspec": {
   "display_name": "Python 3",
   "language": "python",
   "name": "python3"
  },
  "language_info": {
   "codemirror_mode": {
    "name": "ipython",
    "version": 3
   },
   "file_extension": ".py",
   "mimetype": "text/x-python",
   "name": "python",
   "nbconvert_exporter": "python",
   "pygments_lexer": "ipython3",
   "version": "3.6.3"
  }
 },
 "nbformat": 4,
 "nbformat_minor": 1
}
