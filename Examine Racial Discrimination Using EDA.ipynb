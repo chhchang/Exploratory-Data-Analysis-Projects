{
 "cells": [
  {
   "cell_type": "markdown",
   "metadata": {},
   "source": [
    "# Examining Racial Discrimination in the US Job Market\n",
    "\n",
    "### Background\n",
    "Racial discrimination continues to be pervasive in cultures throughout the world. Researchers examined the level of racial discrimination in the United States labor market by randomly assigning identical résumés to black-sounding or white-sounding names and observing the impact on requests for interviews from employers.\n",
    "\n",
    "### Data\n",
    "In the dataset provided, each row represents a resume. The 'race' column has two values, 'b' and 'w', indicating black-sounding and white-sounding. The column 'call' has two values, 1 and 0, indicating whether the resume received a call from employers or not.\n",
    "\n",
    "Note that the 'b' and 'w' values in race are assigned randomly to the resumes when presented to the employer."
   ]
  },
  {
   "cell_type": "markdown",
   "metadata": {},
   "source": [
    "### Exercises\n",
    "You will perform a statistical analysis to establish whether race has a significant impact on the rate of callbacks for resumes.\n",
    "\n",
    "Answer the following questions **in this notebook below and submit to your Github account**. \n",
    "\n",
    "   1. What test is appropriate for this problem? Does CLT apply?\n",
    "   2. What are the null and alternate hypotheses?\n",
    "   3. Compute margin of error, confidence interval, and p-value. Try using both the bootstrapping and the frequentist statistical approaches.\n",
    "   4. Write a story describing the statistical significance in the context or the original problem.\n",
    "   5. Does your analysis mean that race/name is the most important factor in callback success? Why or why not? If not, how would you amend your analysis?\n",
    "\n",
    "You can include written notes in notebook cells using Markdown: \n",
    "   - In the control panel at the top, choose Cell > Cell Type > Markdown\n",
    "   - Markdown syntax: http://nestacms.com/docs/creating-content/markdown-cheat-sheet\n",
    "\n",
    "\n",
    "#### Resources\n",
    "+ Experiment information and data source: http://www.povertyactionlab.org/evaluation/discrimination-job-market-united-states\n",
    "+ Scipy statistical methods: http://docs.scipy.org/doc/scipy/reference/stats.html \n",
    "+ Markdown syntax: http://nestacms.com/docs/creating-content/markdown-cheat-sheet\n",
    "+ Formulas for the Bernoulli distribution: https://en.wikipedia.org/wiki/Bernoulli_distribution\n",
    "****"
   ]
  },
  {
   "cell_type": "code",
   "execution_count": 2,
   "metadata": {},
   "outputs": [],
   "source": [
    "import pandas as pd\n",
    "import numpy as np\n",
    "from scipy import stats\n",
    "np.set_printoptions(precision=7)"
   ]
  },
  {
   "cell_type": "code",
   "execution_count": 3,
   "metadata": {},
   "outputs": [],
   "source": [
    "data = pd.io.stata.read_stata('lakisha_aer.dta')"
   ]
  },
  {
   "cell_type": "code",
   "execution_count": 4,
   "metadata": {},
   "outputs": [
    {
     "name": "stdout",
     "output_type": "stream",
     "text": [
      "<class 'pandas.core.frame.DataFrame'>\n",
      "Int64Index: 4870 entries, 0 to 4869\n",
      "Data columns (total 2 columns):\n",
      "race    4870 non-null object\n",
      "call    4870 non-null float32\n",
      "dtypes: float32(1), object(1)\n",
      "memory usage: 95.1+ KB\n"
     ]
    }
   ],
   "source": [
    "data[['race','call']].info()"
   ]
  },
  {
   "cell_type": "code",
   "execution_count": 19,
   "metadata": {},
   "outputs": [
    {
     "data": {
      "text/plain": [
       "235.0"
      ]
     },
     "execution_count": 19,
     "metadata": {},
     "output_type": "execute_result"
    }
   ],
   "source": [
    "# number of callbacks for white-sounding names\n",
    "sum(data[data.race=='w'].call)"
   ]
  },
  {
   "cell_type": "code",
   "execution_count": 20,
   "metadata": {},
   "outputs": [
    {
     "data": {
      "text/plain": [
       "157.0"
      ]
     },
     "execution_count": 20,
     "metadata": {},
     "output_type": "execute_result"
    }
   ],
   "source": [
    "# number of callbacks for black-sounding names\n",
    "sum(data[data.race=='b'].call)"
   ]
  },
  {
   "cell_type": "code",
   "execution_count": 21,
   "metadata": {},
   "outputs": [
    {
     "data": {
      "text/html": [
       "<div>\n",
       "<style>\n",
       "    .dataframe thead tr:only-child th {\n",
       "        text-align: right;\n",
       "    }\n",
       "\n",
       "    .dataframe thead th {\n",
       "        text-align: left;\n",
       "    }\n",
       "\n",
       "    .dataframe tbody tr th {\n",
       "        vertical-align: top;\n",
       "    }\n",
       "</style>\n",
       "<table border=\"1\" class=\"dataframe\">\n",
       "  <thead>\n",
       "    <tr style=\"text-align: right;\">\n",
       "      <th></th>\n",
       "      <th>race</th>\n",
       "      <th>call</th>\n",
       "    </tr>\n",
       "  </thead>\n",
       "  <tbody>\n",
       "    <tr>\n",
       "      <th>0</th>\n",
       "      <td>w</td>\n",
       "      <td>0.0</td>\n",
       "    </tr>\n",
       "    <tr>\n",
       "      <th>1</th>\n",
       "      <td>w</td>\n",
       "      <td>0.0</td>\n",
       "    </tr>\n",
       "    <tr>\n",
       "      <th>2</th>\n",
       "      <td>b</td>\n",
       "      <td>0.0</td>\n",
       "    </tr>\n",
       "    <tr>\n",
       "      <th>3</th>\n",
       "      <td>b</td>\n",
       "      <td>0.0</td>\n",
       "    </tr>\n",
       "    <tr>\n",
       "      <th>4</th>\n",
       "      <td>w</td>\n",
       "      <td>0.0</td>\n",
       "    </tr>\n",
       "  </tbody>\n",
       "</table>\n",
       "</div>"
      ],
      "text/plain": [
       "  race  call\n",
       "0    w   0.0\n",
       "1    w   0.0\n",
       "2    b   0.0\n",
       "3    b   0.0\n",
       "4    w   0.0"
      ]
     },
     "execution_count": 21,
     "metadata": {},
     "output_type": "execute_result"
    }
   ],
   "source": [
    "data[['race','call']].head()"
   ]
  },
  {
   "cell_type": "markdown",
   "metadata": {},
   "source": [
    "## What test is appropriate for this problem?\n",
    "In this problem, we are testing and estimating the difference between two population proportions, which are the probability of resumes with black-sounding and white-sounding names receiving calls from employers. Since the dataset is large and robust, the test statistic would be z-statistics. The test statistic can be expressed as:\n",
    "\n",
    "$$z = \\frac{\\left( \\hat{p}_W - \\hat{p}_B \\right) - 0}{\\sqrt{\\hat{p} (1 - \\hat{p)} \\left( \\frac{1}{n_W} + \\frac{1}{n_B}\\right)}}$$\n",
    "\n",
    "where:\n",
    "\n",
    "$$ \\hat{p}_B = \\frac{{x}_B}{{n}_B} \\space\\space and \\space\\space\\space \\hat{p}_W = \\frac{{x}_W}{{n}_W}$$\n",
    "\n",
    "With x representing the sum of successes, the pooled proportion estimate is defined as:\n",
    "\n",
    "$$\\hat{p} = \\frac{x_W + x_B}{n_W + n_B}$$\n",
    "\n",
    "and the confidence interval:\n",
    "\n",
    "$$\\left( \\hat{p}_W - \\hat{p}_B \\right) \\pm z_\\frac{a}{2} \\sqrt{\\frac{\\hat{p}_W \\left( 1- \\hat{p}_W \\right)}{n_W} + \\frac{\\hat{p}_B \\left( 1- \\hat{p}_B \\right)}{n_B}}$$\n",
    "\n",
    "The null hypotheses:\n",
    "\n",
    "$$H_0: p_B = p_W$$\n",
    "\n",
    "The confidence level (α) is 0.05. "
   ]
  },
  {
   "cell_type": "code",
   "execution_count": 6,
   "metadata": {},
   "outputs": [
    {
     "name": "stdout",
     "output_type": "stream",
     "text": [
      "Z score: 4.10841215243\n",
      "P-value: 3.98388683759e-05\n"
     ]
    }
   ],
   "source": [
    "#compute the variables in the equations and calculate the z score and p-value\n",
    "w = data[['call']][data.race=='w']\n",
    "b = data[['call']][data.race=='b']\n",
    "\n",
    "n_w = len(w)\n",
    "n_b = len(b)\n",
    "\n",
    "x_w = np.sum(w.call)\n",
    "x_b = np.sum(b.call)\n",
    "\n",
    "phat_w = x_w/n_w\n",
    "phat_b = x_b/n_b\n",
    "phat = (x_w+x_b)/(n_w+n_b)\n",
    "\n",
    "z = (phat_w - phat_b)/np.sqrt(phat*(1-phat)*(1/n_w + 1/n_b))\n",
    "p_value = stats.norm.sf(abs(z))*2\n",
    "\n",
    "print(\"Z score:\", z)\n",
    "print(\"P-value:\", p_value)"
   ]
  },
  {
   "cell_type": "code",
   "execution_count": 23,
   "metadata": {
    "scrolled": false
   },
   "outputs": [
    {
     "name": "stdout",
     "output_type": "stream",
     "text": [
      "Margin of error: 0.0152819123109\n",
      "Confidence interval: [ 0.0167509  0.0473148]\n"
     ]
    }
   ],
   "source": [
    "#calculate both margin of error and confidence interval\n",
    "m_o_e = 1.96 * np.sqrt(phat*(1-phat)*(1/n_w + 1/n_b))\n",
    "confi_int = (phat_w - phat_b) + np.array([-1,1]) * m_o_e\n",
    "print(\"Margin of error:\", m_o_e)\n",
    "print(\"Confidence interval:\", confi_int)"
   ]
  },
  {
   "cell_type": "markdown",
   "metadata": {},
   "source": [
    "The z score calculated from the sample data is really high and the p-value is nearly 0. Furthermore, the confidence interval is well above 0. Therefore we can reject the null hypothesis and conclude that there is significant difference in call back rate between black-sounding and white-sounding names."
   ]
  },
  {
   "cell_type": "code",
   "execution_count": 35,
   "metadata": {
    "scrolled": true
   },
   "outputs": [
    {
     "name": "stdout",
     "output_type": "stream",
     "text": [
      "P-value: 0.0\n",
      "Confidence interval: [ 0.0168378  0.0476386]\n",
      "Margin of error: 0.0154004106776\n"
     ]
    }
   ],
   "source": [
    "##two sample boostrap confidence interval:\n",
    "w_array = w.values.flatten()\n",
    "b_array = b.values.flatten()\n",
    "\n",
    "#create function to calculate difference in probability in getting calls\n",
    "def prop(data):\n",
    "    phat = np.sum(data)/len(data)\n",
    "    \n",
    "    return phat\n",
    "\n",
    "#bootstrap replicate function\n",
    "def bootstrap_replicate_1d(data, func):\n",
    "    #\"\"Generate bootstrap replicate of 1D data.\"\"\n",
    "    bs_sample = np.random.choice(data, len(data))\n",
    "    return func(bs_sample)\n",
    "\n",
    "#create many bootstrap replicate as a function:\n",
    "def draw_bs_reps(data, func, size=1):\n",
    "    \"\"\"Draw bootstrap replicates.\"\"\"\n",
    "\n",
    "    # Initialize array of replicates: bs_replicates\n",
    "    bs_replicates = np.empty(size)\n",
    "    # Generate replicates\n",
    "    for i in range(size):\n",
    "        bs_replicates[i] = bootstrap_replicate_1d(data,func)\n",
    "    return bs_replicates\n",
    "\n",
    "bs_replicates_w = draw_bs_reps(w_array, prop, 10000)\n",
    "bs_replicates_b = draw_bs_reps(b_array, prop, 10000)\n",
    "\n",
    "bs_diff_replicates = bs_replicates_w - bs_replicates_b\n",
    "\n",
    "#calculate the difference in call probabilities between two name categories\n",
    "prop_diff = prop(w_array) - prop(b_array)\n",
    "\n",
    "p_value_bs = np.sum(bs_diff_replicates <= 0) / len(bs_diff_replicates)\n",
    "\n",
    "#calculate the two-tailed 95% confidence interval at percentile 2.5% and 97.5%\n",
    "conf_int = np.percentile(bs_diff_replicates,[2.5,97.5])\n",
    "m_o_e = (np.percentile(bs_diff_replicates,97.5) - np.percentile(bs_diff_replicates,2.5))/2\n",
    "\n",
    "print('P-value:', p_value_bs)\n",
    "print('Confidence interval:', conf_int)\n",
    "print('Margin of error:', m_o_e)"
   ]
  },
  {
   "cell_type": "markdown",
   "metadata": {},
   "source": [
    "By bootstrap approach, the result is the same. P-value is at 0. We can also reject the null hypothesis by bootstrapping.\n",
    "\n",
    "This analysis shows that the difference in racial sounding names is a significant factor toward getting call from employers. The original study accompanied the data source mentioned that name difference is the most important contributor besides other factors, such as region and experience, that impacted the employment prospect.  "
   ]
  }
 ],
 "metadata": {
  "kernelspec": {
   "display_name": "Python 3",
   "language": "python",
   "name": "python3"
  },
  "language_info": {
   "codemirror_mode": {
    "name": "ipython",
    "version": 3
   },
   "file_extension": ".py",
   "mimetype": "text/x-python",
   "name": "python",
   "nbconvert_exporter": "python",
   "pygments_lexer": "ipython3",
   "version": "3.6.3"
  }
 },
 "nbformat": 4,
 "nbformat_minor": 1
}
